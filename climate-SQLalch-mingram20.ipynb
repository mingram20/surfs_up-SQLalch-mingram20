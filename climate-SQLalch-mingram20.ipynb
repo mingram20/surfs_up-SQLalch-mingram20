{
 "cells": [
  {
   "cell_type": "markdown",
   "metadata": {},
   "source": [
    "# Trend Analysis\n",
    "\n",
    "##### Looking at the first Bar Chart it can be seen that Honolulu, HI had a maximum of slightly less than 7 inches of rain in last twelve months. Months with more than 3 inches of rain where September, October, February, April, and July.\n",
    "\n",
    "##### The most active weather station indicates the lowest temperature measured was 54.0°F,  the highest temperature measured was 85.0°F, and average temperature measured was 71.7°F over the last twelve months.\n",
    "\n",
    "##### Observing the aggregated normals data for our trip date range helps us find the daily normals for the trip dates (2017-03-17 to 2017-04-09). The visualization labeled 'Aggregated Normals (Daily) 2017-03-17 to 2017-04-09' shows the temperature ranges for the trip (low ~60°F and high around 80°F) while the avg. temperature stays around 70°F over the course of the trip."
   ]
  },
  {
   "cell_type": "code",
   "execution_count": 1,
   "metadata": {},
   "outputs": [],
   "source": [
    "%matplotlib inline\n",
    "from matplotlib import style\n",
    "style.use('fivethirtyeight')\n",
    "import matplotlib.pyplot as plt"
   ]
  },
  {
   "cell_type": "code",
   "execution_count": 2,
   "metadata": {},
   "outputs": [],
   "source": [
    "import numpy as np\n",
    "import pandas as pd"
   ]
  },
  {
   "cell_type": "code",
   "execution_count": 3,
   "metadata": {},
   "outputs": [],
   "source": [
    "import datetime as dt\n",
    "from datetime import timedelta"
   ]
  },
  {
   "cell_type": "markdown",
   "metadata": {},
   "source": [
    "# Reflect Tables into SQLAlchemy ORM"
   ]
  },
  {
   "cell_type": "code",
   "execution_count": 4,
   "metadata": {},
   "outputs": [],
   "source": [
    "# Python SQL toolkit and Object Relational Mapper\n",
    "import sqlalchemy\n",
    "from sqlalchemy.ext.automap import automap_base\n",
    "from sqlalchemy.orm import Session\n",
    "from sqlalchemy import create_engine, func, inspect"
   ]
  },
  {
   "cell_type": "code",
   "execution_count": 5,
   "metadata": {},
   "outputs": [],
   "source": [
    "engine = create_engine(\"sqlite:///Resources/hawaii.sqlite\")"
   ]
  },
  {
   "cell_type": "code",
   "execution_count": 6,
   "metadata": {},
   "outputs": [],
   "source": [
    "# reflect an existing database into a new model\n",
    "Base = automap_base()\n",
    "# reflect the tables\n",
    "Base.prepare(engine, reflect=True)"
   ]
  },
  {
   "cell_type": "code",
   "execution_count": 7,
   "metadata": {},
   "outputs": [
    {
     "data": {
      "text/plain": [
       "['measurement', 'station']"
      ]
     },
     "execution_count": 7,
     "metadata": {},
     "output_type": "execute_result"
    }
   ],
   "source": [
    "# We can view all of the classes that automap found\n",
    "Base.classes.keys()"
   ]
  },
  {
   "cell_type": "code",
   "execution_count": 8,
   "metadata": {},
   "outputs": [],
   "source": [
    "# Save references to each table\n",
    "Measurement = Base.classes.measurement\n",
    "Station = Base.classes.station"
   ]
  },
  {
   "cell_type": "code",
   "execution_count": 9,
   "metadata": {},
   "outputs": [],
   "source": [
    "# Create our session (link) from Python to the DB\n",
    "session = Session(engine)"
   ]
  },
  {
   "cell_type": "code",
   "execution_count": 10,
   "metadata": {},
   "outputs": [
    {
     "data": {
      "text/plain": [
       "['measurement', 'station']"
      ]
     },
     "execution_count": 10,
     "metadata": {},
     "output_type": "execute_result"
    }
   ],
   "source": [
    "# Declace inspector and get the table names\n",
    "inspector = inspect(engine)\n",
    "inspector.get_table_names()"
   ]
  },
  {
   "cell_type": "markdown",
   "metadata": {},
   "source": [
    "## Inspect Tables"
   ]
  },
  {
   "cell_type": "code",
   "execution_count": 11,
   "metadata": {},
   "outputs": [
    {
     "name": "stdout",
     "output_type": "stream",
     "text": [
      "Measurement Table\n",
      "id INTEGER\n",
      "station TEXT\n",
      "date TEXT\n",
      "prcp FLOAT\n",
      "tobs FLOAT\n",
      "#################################\n",
      "Station Table\n",
      "id INTEGER\n",
      "station TEXT\n",
      "name TEXT\n",
      "latitude FLOAT\n",
      "longitude FLOAT\n",
      "elevation FLOAT\n"
     ]
    }
   ],
   "source": [
    "# Use the inspector that was declared earlier to get each tables column names and data contained within\n",
    "print(\"Measurement Table\")\n",
    "columns = inspector.get_columns('measurement')\n",
    "for c in columns:\n",
    "    print(c['name'], c[\"type\"])\n",
    "print(\"#################################\")\n",
    "print(\"Station Table\")\n",
    "columns = inspector.get_columns('station')\n",
    "for c in columns:\n",
    "    print(c['name'], c[\"type\"])"
   ]
  },
  {
   "cell_type": "markdown",
   "metadata": {},
   "source": [
    "# Exploratory Climate Analysis"
   ]
  },
  {
   "cell_type": "code",
   "execution_count": 12,
   "metadata": {},
   "outputs": [
    {
     "data": {
      "image/png": "[encoded data removed]",
      "text/plain": [
       "<Figure size 432x288 with 1 Axes>"
      ]
     },
     "metadata": {
      "needs_background": "light"
     },
     "output_type": "display_data"
    }
   ],
   "source": [
    "# Design a query to retrieve the last 12 months of precipitation data and plot the results\n",
    "maxDate = session.query(Measurement.date).order_by(Measurement.date.desc()).first()\n",
    "\n",
    "# Get the first element of the tuple\n",
    "maxDate = maxDate[0]\n",
    "\n",
    "# Calculate the date 1 year ago from today\n",
    "# Set days to 366 so starting day is included\n",
    "priorYear = dt.datetime.strptime(maxDate, \"%Y-%m-%d\") - dt.timedelta(days=366)\n",
    "\n",
    "# Perform a query to retrieve the date and precipitation scores\n",
    "queryYear = session.query(Measurement.date, Measurement.prcp).filter(Measurement.date >= priorYear).all()\n",
    "\n",
    "# Save the query results as a Pandas DataFrame and set the index to the date column\n",
    "prcpDF = pd.DataFrame(queryYear,columns=['Date', 'Precipitation'])\n",
    "\n",
    "# Change datatype from element to datetime object on Pandas, this standardizes all date data\n",
    "prcpDF['Date'] = pd.to_datetime(prcpDF['Date'], format='%Y-%m-%d')\n",
    "\n",
    "# Set the index to date dolumn\n",
    "prcpDF.set_index('Date', inplace=True)\n",
    "\n",
    "# Sort the dataframe by date (index)\n",
    "prcpDF = prcpDF.sort_values(by='Date',ascending=True)\n",
    "\n",
    "# Preview DF\n",
    "#prcpDF.head()\n",
    "\n",
    "# Use Pandas Plotting with Matplotlib to plot the data\n",
    "prcpDF.plot(title=\"Precipitation Score (Annual)\", color='darkorange')\n",
    "plt.legend(loc='upper center')\n",
    "plt.savefig(\"Images/Precipitation.png\")\n",
    "plt.show()"
   ]
  },
  {
   "cell_type": "code",
   "execution_count": 13,
   "metadata": {},
   "outputs": [
    {
     "data": {
      "text/html": [
       "<div>\n",
       "<style scoped>\n",
       "    .dataframe tbody tr th:only-of-type {\n",
       "        vertical-align: middle;\n",
       "    }\n",
       "\n",
       "    .dataframe tbody tr th {\n",
       "        vertical-align: top;\n",
       "    }\n",
       "\n",
       "    .dataframe thead th {\n",
       "        text-align: right;\n",
       "    }\n",
       "</style>\n",
       "<table border=\"1\" class=\"dataframe\">\n",
       "  <thead>\n",
       "    <tr style=\"text-align: right;\">\n",
       "      <th></th>\n",
       "      <th>Precipitation</th>\n",
       "    </tr>\n",
       "  </thead>\n",
       "  <tbody>\n",
       "    <tr>\n",
       "      <th>count</th>\n",
       "      <td>2021.000000</td>\n",
       "    </tr>\n",
       "    <tr>\n",
       "      <th>mean</th>\n",
       "      <td>0.177279</td>\n",
       "    </tr>\n",
       "    <tr>\n",
       "      <th>std</th>\n",
       "      <td>0.461190</td>\n",
       "    </tr>\n",
       "    <tr>\n",
       "      <th>min</th>\n",
       "      <td>0.000000</td>\n",
       "    </tr>\n",
       "    <tr>\n",
       "      <th>25%</th>\n",
       "      <td>0.000000</td>\n",
       "    </tr>\n",
       "    <tr>\n",
       "      <th>50%</th>\n",
       "      <td>0.020000</td>\n",
       "    </tr>\n",
       "    <tr>\n",
       "      <th>75%</th>\n",
       "      <td>0.130000</td>\n",
       "    </tr>\n",
       "    <tr>\n",
       "      <th>max</th>\n",
       "      <td>6.700000</td>\n",
       "    </tr>\n",
       "  </tbody>\n",
       "</table>\n",
       "</div>"
      ],
      "text/plain": [
       "       Precipitation\n",
       "count    2021.000000\n",
       "mean        0.177279\n",
       "std         0.461190\n",
       "min         0.000000\n",
       "25%         0.000000\n",
       "50%         0.020000\n",
       "75%         0.130000\n",
       "max         6.700000"
      ]
     },
     "execution_count": 13,
     "metadata": {},
     "output_type": "execute_result"
    }
   ],
   "source": [
    "# Use Pandas to calcualte the summary statistics for the precipitation data\n",
    "prcpDF.describe()"
   ]
  },
  {
   "cell_type": "code",
   "execution_count": 14,
   "metadata": {},
   "outputs": [
    {
     "name": "stdout",
     "output_type": "stream",
     "text": [
      "# of Stations Available: 9\n"
     ]
    }
   ],
   "source": [
    "# Design a query to show how many stations are available in this dataset?\n",
    "availStat = session.query(Measurement.station).distinct().count()\n",
    "print(f'# of Stations Available: {availStat}')"
   ]
  },
  {
   "cell_type": "code",
   "execution_count": 15,
   "metadata": {},
   "outputs": [
    {
     "name": "stdout",
     "output_type": "stream",
     "text": [
      "Most Active Stations\n"
     ]
    },
    {
     "data": {
      "text/plain": [
       "[('USC00519281', 2772),\n",
       " ('USC00519397', 2724),\n",
       " ('USC00513117', 2709),\n",
       " ('USC00519523', 2669),\n",
       " ('USC00516128', 2612),\n",
       " ('USC00514830', 2202),\n",
       " ('USC00511918', 1979),\n",
       " ('USC00517948', 1372),\n",
       " ('USC00518838', 511)]"
      ]
     },
     "execution_count": 15,
     "metadata": {},
     "output_type": "execute_result"
    }
   ],
   "source": [
    "# What are the most active stations? (i.e. what stations have the most rows)?\n",
    "# List the stations and the counts in descending order.\n",
    "activeStat = session.query(Measurement.station, \\\n",
    "                           func.count(Measurement.station)).group_by\\\n",
    "                            (Measurement.station).order_by\\\n",
    "                            (func.count(Measurement.station).desc()).all()\n",
    "print(f\"Most Active Stations\")\n",
    "activeStat"
   ]
  },
  {
   "cell_type": "code",
   "execution_count": 16,
   "metadata": {},
   "outputs": [
    {
     "name": "stdout",
     "output_type": "stream",
     "text": [
      "Most Active Station: USC00519281     # of Observations: 2772\n"
     ]
    }
   ],
   "source": [
    "# Which station has the highest number of observations?\n",
    "# Solve this by pulling in both columns of the indexed 0 station\n",
    "mostActvStat = activeStat[0][0]\n",
    "numberObser = activeStat[0][1]\n",
    "print(f\"Most Active Station: {mostActvStat}     # of Observations: {numberObser}\")"
   ]
  },
  {
   "cell_type": "code",
   "execution_count": 17,
   "metadata": {},
   "outputs": [
    {
     "name": "stdout",
     "output_type": "stream",
     "text": [
      "Most Active Station Temperatures (°F)\n",
      "Low: 54.0°     High: 85.0°     Average: 71.7°\n"
     ]
    }
   ],
   "source": [
    "# Using the station id from the previous query, calculate the lowest temperature recorded, \n",
    "# highest temperature recorded, and average temperature most active station?\n",
    "mostActvStatTemps = session.query(func.min(Measurement.tobs), func.max(Measurement.tobs),\n",
    "                                  func.avg(Measurement.tobs)).filter\\\n",
    "                                    (Measurement.station == mostActvStat).all()\n",
    "print(f\"Most Active Station Temperatures (°F)\")\n",
    "print(f\"Low: {mostActvStatTemps[0][0]}°     High: {mostActvStatTemps[0][1]}°     Average: {round(mostActvStatTemps[0][2], 1)}°\")\n"
   ]
  },
  {
   "cell_type": "code",
   "execution_count": 18,
   "metadata": {},
   "outputs": [
    {
     "data": {
      "image/png": "[encoded data removed]",
      "text/plain": [
       "<Figure size 432x288 with 1 Axes>"
      ]
     },
     "metadata": {
      "needs_background": "light"
     },
     "output_type": "display_data"
    }
   ],
   "source": [
    "# Choose the station with the highest number of temperature observations.\n",
    "mostTempStat = session.query(Measurement.station, func.count(Measurement.tobs)).group_by\\\n",
    "                (Measurement.station).order_by\\\n",
    "                (func.count(Measurement.station).desc()).first()\n",
    "mostTempStat = mostTempStat[0]\n",
    "# Query the last 12 months of temperature observation data for\n",
    "# this station and plot the results as a histogram\n",
    "\n",
    "# Query is looking at the date we determined earlier that is one year back and filtering\n",
    "# on all dates greater than or equal to, so this brings us a full year back from most recent date\n",
    "tempObv = session.query(Measurement.tobs).filter\\\n",
    "                            (Measurement.date >= priorYear).filter\\\n",
    "                            (Measurement.station == mostTempStat).all()\n",
    "tempObv = pd.DataFrame(tempObv, columns=['Temperature'])\n",
    "\n",
    "# Construct histogram using 12 bins for the 12 months of the year\n",
    "tempObv.plot.hist(bins=12, title=\"Temperature (°F) v.s. Frequency Histogram\", color='darkred')\n",
    "plt.tight_layout()\n",
    "plt.savefig(\"Images/TempVSFreq.png\")\n",
    "plt.show()"
   ]
  },
  {
   "cell_type": "code",
   "execution_count": 19,
   "metadata": {
    "scrolled": true
   },
   "outputs": [
    {
     "name": "stdout",
     "output_type": "stream",
     "text": [
      "[(65.0, 74.04794520547945, 80.0)]\n"
     ]
    }
   ],
   "source": [
    "# This function called `calc_temps` will accept start date and end date in the format '%Y-%m-%d' \n",
    "# and return the minimum, average, and maximum temperatures for that range of dates\n",
    "def calcTemps(startDate, endDate):\n",
    "#     TMIN, TAVG, and TMAX for a list of dates.\n",
    "#     Arguments:\n",
    "#         startDate (string): A date string in the format %Y-%m-%d\n",
    "#         endDate (string): A date string in the format %Y-%m-%d\n",
    "#     Returns:\n",
    "#         tripMin, tripAvg, and tripMax\n",
    "    return session.query(func.min(Measurement.tobs), func.avg(Measurement.tobs),\\\n",
    "                     func.max(Measurement.tobs)).\\\n",
    "        filter(Measurement.date >= startDate).filter(Measurement.date <= endDate).all()\n",
    "\n",
    "# function usage example\n",
    "print(calcTemps('2017-03-17','2017-04-09'))"
   ]
  },
  {
   "cell_type": "markdown",
   "metadata": {},
   "source": [
    "## Trip Climate Analysis"
   ]
  },
  {
   "cell_type": "code",
   "execution_count": 20,
   "metadata": {},
   "outputs": [
    {
     "data": {
      "text/plain": [
       "[(65.0, 74.04794520547945, 80.0)]"
      ]
     },
     "execution_count": 20,
     "metadata": {},
     "output_type": "execute_result"
    }
   ],
   "source": [
    "# Use your previous function `calcTemps` to calculate the tmin, tavg, and tmax \n",
    "# for your trip using the previous year's data for those same dates.\n",
    "tripDate = calcTemps('2017-03-17','2017-04-09')\n",
    "tripDate"
   ]
  },
  {
   "cell_type": "code",
   "execution_count": 21,
   "metadata": {},
   "outputs": [
    {
     "data": {
      "image/png": "[encoded data removed]",
      "text/plain": [
       "<Figure size 288x432 with 1 Axes>"
      ]
     },
     "metadata": {
      "needs_background": "light"
     },
     "output_type": "display_data"
    }
   ],
   "source": [
    "# Create a dataframe with the calculated tripMin, tripAvg, and tripMax values\n",
    "tripTempDF = pd.DataFrame(tripDate, columns = ['tripMin', 'tripAvg', 'tripMax'])\n",
    "# Preview the DF\n",
    "#tripTempDF\n",
    "\n",
    "# Plot the results from your previous query as a bar chart. \n",
    "# Use \"Trip Avg Temp\" as your Title\n",
    "# Use the average temperature for the y value\n",
    "# Use the peak-to-peak (tempMax-tempMin) value as the y error bar (yerr)\n",
    "tripTempDF.plot.bar(y='tripAvg', yerr=(tripTempDF['tripMax']-tripTempDF['tripMin']), \n",
    "                    title='Trip - Avg. Temp °F', color='darkred', alpha=0.5, figsize=(4,6))\n",
    "plt.xticks(np.arange(1,1.0))\n",
    "plt.ylabel('Temp (F)')\n",
    "plt.tight_layout()\n",
    "plt.gca().legend_.remove()\n",
    "#plt.savefig(\"Images/TripAvgTemp.png\")\n",
    "plt.show()\n"
   ]
  },
  {
   "cell_type": "code",
   "execution_count": 22,
   "metadata": {},
   "outputs": [
    {
     "name": "stdout",
     "output_type": "stream",
     "text": [
      "[('USC00519523', 'WAIMANALO EXPERIMENTAL FARM, HI US', 21.33556, -157.71139, 19.5, 0.35), ('USC00513117', 'KANEOHE 838.1, HI US', 21.4234, -157.8015, 14.6, 0.19), ('USC00519281', 'WAIHEE 837.5, HI US', 21.45167, -157.84888999999998, 32.9, 0.12), ('USC00514830', 'KUALOA RANCH HEADQUARTERS 886.9, HI US', 21.5213, -157.8374, 7.0, 0.06), ('USC00519397', 'WAIKIKI 717.2, HI US', 21.2716, -157.8168, 3.0, 0.0), ('USC00516128', 'MANOA LYON ARBO 785.2, HI US', 21.3331, -157.8025, 152.4, None), ('USC00517948', 'PEARL CITY, HI US', 21.3934, -157.9751, 11.9, None)]\n"
     ]
    }
   ],
   "source": [
    "# Calculate the total amount of rainfall per weather station for your trip dates using the previous year's matching dates.\n",
    "# Sort this in descending order by precipitation amount and list the station, name, latitude, longitude, and elevation\n",
    "def precipitation(startDate, endDate):\n",
    "                # Docstring for the function `calc_temps`\n",
    "    \"\"\"Precipitation information per weather station\n",
    "    \n",
    "    Args:\n",
    "        starDate (string): A date string in the format %Y-%m-%d\n",
    "        endDate (string): A date string in the format %Y-%m-%d\n",
    "        \n",
    "    Returns:\n",
    "        A list of tuples containing precipitation amount, station, name, \n",
    "        latitude, longitude, and elevation in descending order.\n",
    "    \"\"\"\n",
    "    sel = [Measurement.station, \n",
    "           Station.name, \n",
    "           Station.latitude, \n",
    "           Station.longitude, \n",
    "           Station.elevation, \n",
    "           Measurement.prcp]    \n",
    "    return session.query(*sel).\\\n",
    "            filter(Measurement.station == Station.station).\\\n",
    "filter(Measurement.date >= startDate).\\\n",
    "filter(Measurement.date <= endDate).\\\n",
    "group_by(Measurement.station).\\\n",
    "order_by(Measurement.prcp.desc()).all()\n",
    "\n",
    "print(precipitation('2017-03-17','2017-04-09'))"
   ]
  },
  {
   "cell_type": "markdown",
   "metadata": {},
   "source": [
    "## Optional Challenge Assignment"
   ]
  },
  {
   "cell_type": "code",
   "execution_count": 23,
   "metadata": {},
   "outputs": [
    {
     "data": {
      "text/plain": [
       "[(62.0, 69.15384615384616, 77.0)]"
      ]
     },
     "execution_count": 23,
     "metadata": {},
     "output_type": "execute_result"
    }
   ],
   "source": [
    "# Create a query that will calculate the daily normals \n",
    "# (i.e. the averages for tmin, tmax, and tavg for all historic data \n",
    "# matching a specific month and day)\n",
    "def dailyNormals(date):\n",
    "    \"\"\"Daily Normals.\n",
    "    \n",
    "    Args:\n",
    "        date (str): A date string in the format '%m-%d'\n",
    "        \n",
    "    Returns:\n",
    "        A list of tuples containing the daily normals, tmin, tavg, and tmax\n",
    "    \n",
    "    \"\"\"\n",
    "    sel = [func.min(Measurement.tobs), func.avg(Measurement.tobs), func.max(Measurement.tobs)]\n",
    "    return session.query(*sel).filter(func.strftime(\"%m-%d\", Measurement.date) == date).all()    \n",
    "dailyNormals(\"01-01\")"
   ]
  },
  {
   "cell_type": "code",
   "execution_count": 24,
   "metadata": {},
   "outputs": [
    {
     "name": "stdout",
     "output_type": "stream",
     "text": [
      "Aggregated Normals (Daily) 2017-03-17 to 2017-04-09\n"
     ]
    },
    {
     "data": {
      "text/plain": [
       "[(57.0, 68.54, 75.0),\n",
       " (57.0, 67.7843137254902, 76.0),\n",
       " (60.0, 69.1, 75.0),\n",
       " (62.0, 70.11764705882354, 80.0),\n",
       " (60.0, 71.07692307692308, 77.0),\n",
       " (65.0, 71.75471698113208, 77.0),\n",
       " (63.0, 70.79629629629629, 78.0),\n",
       " (62.0, 71.5, 77.0),\n",
       " (63.0, 71.5, 78.0),\n",
       " (64.0, 71.38, 80.0),\n",
       " (63.0, 71.53846153846153, 80.0),\n",
       " (59.0, 71.51785714285714, 82.0),\n",
       " (58.0, 71.35714285714286, 77.0),\n",
       " (62.0, 72.17543859649123, 79.0),\n",
       " (61.0, 71.875, 79.0),\n",
       " (60.0, 71.87931034482759, 80.0),\n",
       " (53.0, 71.82142857142857, 79.0),\n",
       " (55.0, 72.2280701754386, 78.0),\n",
       " (58.0, 72.01639344262296, 78.0),\n",
       " (61.0, 72.28813559322033, 80.0),\n",
       " (67.0, 71.57142857142857, 77.0),\n",
       " (63.0, 71.10526315789474, 78.0),\n",
       " (66.0, 72.10526315789474, 77.0),\n",
       " (62.0, 71.6140350877193, 78.0)]"
      ]
     },
     "execution_count": 24,
     "metadata": {},
     "output_type": "execute_result"
    }
   ],
   "source": [
    "# calculate the daily normals for your trip\n",
    "# push each tuple of calculations into a list called `normals`\n",
    "# Set the start and end date of the trip\n",
    "startDate = '2017-03-17'\n",
    "endDate = '2017-04-09'\n",
    "\n",
    "# Use the start and end date to create a range of dates\n",
    "dates = session.query(Measurement.date).filter(Measurement.date >= startDate).\\\n",
    "filter(Measurement.date <= endDate).\\\n",
    "group_by(Measurement.date).all()\n",
    "# Preview dates query\n",
    "#print(dates)\n",
    "\n",
    "# Use list comprehension to get the elements in the tuple from the dates query \n",
    "tripDates = [x[0] for x in dates]\n",
    "# Preview trip dates\n",
    "#print(tripDates)\n",
    "\n",
    "# Stip off the year and save a list of %m-%d strings\n",
    "tripDatesStripped = [x[5:] for x in tripDates]\n",
    "# Preview modifed dates\n",
    "#print(tripDatesStripped)\n",
    "\n",
    "# Find the start month/day and the end month/day \n",
    "startMonthDay = tripDatesStripped[0]\n",
    "endMonthDay = tripDatesStripped[-1]\n",
    "\n",
    "# Loop through the list of %m-%d strings and calculate the normals for each date\n",
    "dailyNormals = [session.query(func.min(Measurement.tobs),\n",
    "                             func.avg(Measurement.tobs),\n",
    "                             func.max(Measurement.tobs)).filter(func.strftime(\n",
    "'%m-%d', Measurement.date) >= startMonthDay).filter(func.strftime(\n",
    "    '%m-%d', Measurement.date) <= endMonthDay).\\\n",
    "                group_by(func.strftime('%m-%d', Measurement.date)).all()]\n",
    "dailyNormals = dailyNormals[0]\n",
    "print('Aggregated Normals (Daily) 2017-03-17 to 2017-04-09')\n",
    "dailyNormals"
   ]
  },
  {
   "cell_type": "code",
   "execution_count": 25,
   "metadata": {},
   "outputs": [
    {
     "data": {
      "text/html": [
       "<div>\n",
       "<style scoped>\n",
       "    .dataframe tbody tr th:only-of-type {\n",
       "        vertical-align: middle;\n",
       "    }\n",
       "\n",
       "    .dataframe tbody tr th {\n",
       "        vertical-align: top;\n",
       "    }\n",
       "\n",
       "    .dataframe thead th {\n",
       "        text-align: right;\n",
       "    }\n",
       "</style>\n",
       "<table border=\"1\" class=\"dataframe\">\n",
       "  <thead>\n",
       "    <tr style=\"text-align: right;\">\n",
       "      <th></th>\n",
       "      <th>tripMin</th>\n",
       "      <th>tripAvg</th>\n",
       "      <th>tripMax</th>\n",
       "    </tr>\n",
       "    <tr>\n",
       "      <th>date</th>\n",
       "      <th></th>\n",
       "      <th></th>\n",
       "      <th></th>\n",
       "    </tr>\n",
       "  </thead>\n",
       "  <tbody>\n",
       "    <tr>\n",
       "      <th>2017-03-17</th>\n",
       "      <td>57.0</td>\n",
       "      <td>68.540000</td>\n",
       "      <td>75.0</td>\n",
       "    </tr>\n",
       "    <tr>\n",
       "      <th>2017-03-18</th>\n",
       "      <td>57.0</td>\n",
       "      <td>67.784314</td>\n",
       "      <td>76.0</td>\n",
       "    </tr>\n",
       "    <tr>\n",
       "      <th>2017-03-19</th>\n",
       "      <td>60.0</td>\n",
       "      <td>69.100000</td>\n",
       "      <td>75.0</td>\n",
       "    </tr>\n",
       "    <tr>\n",
       "      <th>2017-03-20</th>\n",
       "      <td>62.0</td>\n",
       "      <td>70.117647</td>\n",
       "      <td>80.0</td>\n",
       "    </tr>\n",
       "    <tr>\n",
       "      <th>2017-03-21</th>\n",
       "      <td>60.0</td>\n",
       "      <td>71.076923</td>\n",
       "      <td>77.0</td>\n",
       "    </tr>\n",
       "  </tbody>\n",
       "</table>\n",
       "</div>"
      ],
      "text/plain": [
       "            tripMin    tripAvg  tripMax\n",
       "date                                   \n",
       "2017-03-17     57.0  68.540000     75.0\n",
       "2017-03-18     57.0  67.784314     76.0\n",
       "2017-03-19     60.0  69.100000     75.0\n",
       "2017-03-20     62.0  70.117647     80.0\n",
       "2017-03-21     60.0  71.076923     77.0"
      ]
     },
     "execution_count": 25,
     "metadata": {},
     "output_type": "execute_result"
    }
   ],
   "source": [
    "# Load the previous query results into a Pandas DataFrame and add the\n",
    "# `trip_dates` range as the `date` index\n",
    "\n",
    "# Create pandas dataframe using prior queries\n",
    "dailyNormalsDF = pd.DataFrame(dailyNormals, columns=['tripMin', 'tripAvg', 'tripMax'])\n",
    "\n",
    "# Add tripDates to DataFrame above\n",
    "dailyNormalsDF['date'] = tripDates\n",
    "\n",
    "# Change datatype from element to datetime object on Pandas, makes x axis title to add \n",
    "dailyNormalsDF['date'] = pd.to_datetime(dailyNormalsDF['date'], format='%Y-%m-%d')\n",
    "\n",
    "# Set index to date\n",
    "dailyNormalsDF.set_index('date',inplace=True)\n",
    "\n",
    "# Preview Dataframe\n",
    "dailyNormalsDF.head()"
   ]
  },
  {
   "cell_type": "code",
   "execution_count": 26,
   "metadata": {},
   "outputs": [
    {
     "data": {
      "image/png": "[encoded data removed]",
      "text/plain": [
       "<Figure size 432x288 with 1 Axes>"
      ]
     },
     "metadata": {
      "needs_background": "light"
     },
     "output_type": "display_data"
    }
   ],
   "source": [
    "# Plot the daily normals as an area plot with `stacked=False`\n",
    "# x_compat = True cleans up the date formatting on the X-Axis\n",
    "dailyNormalsDF.plot(kind='area', alpha=.2, stacked=False, x_compat=True, \\\n",
    "                    title='Aggregated Normals (Daily) 2017-03-17 to 2017-04-09')\n",
    "plt.tight_layout()\n",
    "#plt.savefig(\"Images/DailyNormals.png\")\n",
    "plt.show()"
   ]
  }
 ],
 "metadata": {
  "kernel_info": {
   "name": "python3"
  },
  "kernelspec": {
   "display_name": "Python 3",
   "language": "python",
   "name": "python3"
  },
  "language_info": {
   "codemirror_mode": {
    "name": "ipython",
    "version": 3
   },
   "file_extension": ".py",
   "mimetype": "text/x-python",
   "name": "python",
   "nbconvert_exporter": "python",
   "pygments_lexer": "ipython3",
   "version": "3.7.2"
  },
  "nteract": {
   "version": "0.12.3"
  },
  "varInspector": {
   "cols": {
    "lenName": 16,
    "lenType": 16,
    "lenVar": 40
   },
   "kernels_config": {
    "python": {
     "delete_cmd_postfix": "",
     "delete_cmd_prefix": "del ",
     "library": "var_list.py",
     "varRefreshCmd": "print(var_dic_list())"
    },
    "r": {
     "delete_cmd_postfix": ") ",
     "delete_cmd_prefix": "rm(",
     "library": "var_list.r",
     "varRefreshCmd": "cat(var_dic_list()) "
    }
   },
   "types_to_exclude": [
    "module",
    "function",
    "builtin_function_or_method",
    "instance",
    "_Feature"
   ],
   "window_display": false
  }
 },
 "nbformat": 4,
 "nbformat_minor": 2
}
